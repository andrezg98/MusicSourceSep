{
  "nbformat": 4,
  "nbformat_minor": 0,
  "metadata": {
    "colab": {
      "name": "[TFG] Training CNN.ipynb",
      "provenance": [],
      "authorship_tag": "ABX9TyN8oO7Gq3wpgblmZovI23ei",
      "include_colab_link": true
    },
    "kernelspec": {
      "name": "python3",
      "display_name": "Python 3"
    },
    "language_info": {
      "name": "python"
    }
  },
  "cells": [
    {
      "cell_type": "markdown",
      "metadata": {
        "id": "view-in-github",
        "colab_type": "text"
      },
      "source": [
        "<a href=\"https://colab.research.google.com/github/andrezg98/MusicSourceSep/blob/main/Notebooks/%5BTFG%5D_Training_CNN.ipynb\" target=\"_parent\"><img src=\"https://colab.research.google.com/assets/colab-badge.svg\" alt=\"Open In Colab\"/></a>"
      ]
    },
    {
      "cell_type": "markdown",
      "metadata": {
        "id": "aUXHjlFhFRKk"
      },
      "source": [
        "* **Author**: Andrea Ziqing Gallardo Bendito\n",
        "\n",
        "* **Project**: Bachelor Thesis - *Separación de fuentes musicales en conjuntos de cámara de música clásica*\n",
        "\n",
        "* **GitHub Repo**: [MusicSourceSep](https://github.com/andrezg98/MusicSourceSep)"
      ]
    },
    {
      "cell_type": "markdown",
      "metadata": {
        "id": "tqMPFiChGD1P"
      },
      "source": [
        "---\n",
        "\n",
        "\n",
        "# **CNN Training Stage**\n",
        "\n",
        "---\n",
        "\n"
      ]
    },
    {
      "cell_type": "markdown",
      "metadata": {
        "id": "lisQXSAsLcMV"
      },
      "source": [
        "## **Project repository download and Library installations**\n",
        "\n",
        "**Prerequisites**"
      ]
    },
    {
      "cell_type": "code",
      "metadata": {
        "id": "4RhSXzFAL21T"
      },
      "source": [
        ""
      ],
      "execution_count": null,
      "outputs": []
    },
    {
      "cell_type": "markdown",
      "metadata": {
        "id": "ZqsX4NSXL60Y"
      },
      "source": [
        "**Project repository download and imports**"
      ]
    },
    {
      "cell_type": "code",
      "metadata": {
        "id": "a_vyzP1cMBAh"
      },
      "source": [
        "!git clone https://github.com/andrezg98/MusicSourceSep.git\n",
        "%cd MusicSourceSep/lib\n",
        "!ls"
      ],
      "execution_count": null,
      "outputs": []
    },
    {
      "cell_type": "markdown",
      "metadata": {
        "id": "htIrZgGFHDAu"
      },
      "source": [
        "## **1. Data Generation**\n",
        "\n"
      ]
    },
    {
      "cell_type": "markdown",
      "metadata": {
        "id": "_HVuOHoDJCRj"
      },
      "source": [
        "### 1.1. Score Synthesis"
      ]
    },
    {
      "cell_type": "code",
      "metadata": {
        "id": "-dYa9khNH56f"
      },
      "source": [
        ""
      ],
      "execution_count": null,
      "outputs": []
    },
    {
      "cell_type": "markdown",
      "metadata": {
        "id": "JmTp7bEOHPpu"
      },
      "source": [
        "### 1.2. Audio Augmentation"
      ]
    },
    {
      "cell_type": "code",
      "metadata": {
        "id": "wXHq0yxsEm3g"
      },
      "source": [
        ""
      ],
      "execution_count": null,
      "outputs": []
    },
    {
      "cell_type": "markdown",
      "metadata": {
        "id": "uD41ntQsLM2r"
      },
      "source": [
        "\n",
        "\n",
        "---\n",
        "\n"
      ]
    },
    {
      "cell_type": "markdown",
      "metadata": {
        "id": "4_Ie8SJSIIBM"
      },
      "source": [
        "## **2. Feature Computation**"
      ]
    },
    {
      "cell_type": "markdown",
      "metadata": {
        "id": "J1UvD89HJNy1"
      },
      "source": [
        "### 2.1. STFT\n",
        "Computing the *STFT* of an audio signal."
      ]
    },
    {
      "cell_type": "code",
      "metadata": {
        "id": "-rkaiIoKKFuK"
      },
      "source": [
        ""
      ],
      "execution_count": null,
      "outputs": []
    },
    {
      "cell_type": "markdown",
      "metadata": {
        "id": "Donl5fTRKEth"
      },
      "source": [
        "### 2.2. Data processing"
      ]
    },
    {
      "cell_type": "code",
      "metadata": {
        "id": "8oj04ds1KLhq"
      },
      "source": [
        ""
      ],
      "execution_count": null,
      "outputs": []
    },
    {
      "cell_type": "markdown",
      "metadata": {
        "id": "7mz4oKmQKMmW"
      },
      "source": [
        "## **3. CNN Traning**"
      ]
    },
    {
      "cell_type": "code",
      "metadata": {
        "id": "Vj-Kr68cKV81"
      },
      "source": [
        ""
      ],
      "execution_count": null,
      "outputs": []
    }
  ]
}