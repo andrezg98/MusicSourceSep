{
  "nbformat": 4,
  "nbformat_minor": 0,
  "metadata": {
    "colab": {
      "name": "[TFG] Training CNN.ipynb",
      "provenance": [],
      "authorship_tag": "ABX9TyPEUyCcgLt8XiHEH5gNV/nB",
      "include_colab_link": true
    },
    "kernelspec": {
      "name": "python3",
      "display_name": "Python 3"
    },
    "language_info": {
      "name": "python"
    }
  },
  "cells": [
    {
      "cell_type": "markdown",
      "metadata": {
        "id": "view-in-github",
        "colab_type": "text"
      },
      "source": [
        "<a href=\"https://colab.research.google.com/github/andrezg98/MusicSourceSep/blob/main/Notebooks/%5BTFG%5D_Training_CNN.ipynb\" target=\"_parent\"><img src=\"https://colab.research.google.com/assets/colab-badge.svg\" alt=\"Open In Colab\"/></a>"
      ]
    },
    {
      "cell_type": "markdown",
      "metadata": {
        "id": "aUXHjlFhFRKk"
      },
      "source": [
        "* **Author**: Andrea Ziqing Gallardo Bendito\n",
        "\n",
        "* **Project**: Bachelor Thesis - *Separación de fuentes musicales en conjuntos de cámara de música clásica*\n",
        "\n",
        "* **GitHub Repo**: [MusicSourceSep](https://github.com/andrezg98/MusicSourceSep)"
      ]
    },
    {
      "cell_type": "markdown",
      "metadata": {
        "id": "tqMPFiChGD1P"
      },
      "source": [
        "---\n",
        "\n",
        "\n",
        "# **CNN Training Stage**\n",
        "\n",
        "---\n",
        "\n"
      ]
    },
    {
      "cell_type": "markdown",
      "metadata": {
        "id": "lisQXSAsLcMV"
      },
      "source": [
        "## **Project repository download and Library installations**\n",
        "\n",
        "**Imports**"
      ]
    },
    {
      "cell_type": "code",
      "metadata": {
        "id": "4RhSXzFAL21T"
      },
      "source": [
        "# Imports\n",
        "import numpy as np\n",
        "import librosa\n",
        "import torch"
      ],
      "execution_count": 4,
      "outputs": []
    },
    {
      "cell_type": "markdown",
      "metadata": {
        "id": "ZqsX4NSXL60Y"
      },
      "source": [
        "**Project repository download**"
      ]
    },
    {
      "cell_type": "code",
      "metadata": {
        "id": "a_vyzP1cMBAh",
        "colab": {
          "base_uri": "https://localhost:8080/"
        },
        "outputId": "91bf3e96-af00-4788-dc33-d91e5e2ffb30"
      },
      "source": [
        "from getpass import getpass\n",
        "\n",
        "# IMPORTANTE: ¡Cambiar cuando publique el repositorio!\n",
        "\n",
        "user = 'andrezg98'\n",
        "password = getpass('GitHub repo password')\n",
        "u = user; p = password; \n",
        "!git clone https://$u:$p@github.com/$u/MusicSourceSep.git\n",
        "%cd MusicSourceSep/lib\n",
        "!ls\n",
        "\n",
        "del p, password"
      ],
      "execution_count": 10,
      "outputs": [
        {
          "output_type": "stream",
          "text": [
            "GitHub repo password··········\n",
            "Cloning into 'MusicSourceSep'...\n",
            "remote: Enumerating objects: 52, done.\u001b[K\n",
            "remote: Counting objects: 100% (52/52), done.\u001b[K\n",
            "remote: Compressing objects: 100% (43/43), done.\u001b[K\n",
            "remote: Total 52 (delta 11), reused 14 (delta 2), pack-reused 0\u001b[K\n",
            "Unpacking objects: 100% (52/52), done.\n",
            "/content/MusicSourceSep/lib\n",
            "feature_computation.py\turmp_dataset.py\n"
          ],
          "name": "stdout"
        }
      ]
    },
    {
      "cell_type": "code",
      "metadata": {
        "id": "Nt4GHKryIUWY"
      },
      "source": [
        "# Get data from URMP and Solos Datasets\n",
        "import urmp_dataset"
      ],
      "execution_count": 12,
      "outputs": []
    },
    {
      "cell_type": "markdown",
      "metadata": {
        "id": "htIrZgGFHDAu"
      },
      "source": [
        "## **1. Data Generation**\n",
        "\n"
      ]
    },
    {
      "cell_type": "markdown",
      "metadata": {
        "id": "_HVuOHoDJCRj"
      },
      "source": [
        "### 1.1. Score Synthesis"
      ]
    },
    {
      "cell_type": "code",
      "metadata": {
        "id": "-dYa9khNH56f"
      },
      "source": [
        ""
      ],
      "execution_count": null,
      "outputs": []
    },
    {
      "cell_type": "markdown",
      "metadata": {
        "id": "JmTp7bEOHPpu"
      },
      "source": [
        "### 1.2. Audio Augmentation"
      ]
    },
    {
      "cell_type": "code",
      "metadata": {
        "id": "wXHq0yxsEm3g"
      },
      "source": [
        ""
      ],
      "execution_count": null,
      "outputs": []
    },
    {
      "cell_type": "markdown",
      "metadata": {
        "id": "uD41ntQsLM2r"
      },
      "source": [
        "\n",
        "\n",
        "---\n",
        "\n"
      ]
    },
    {
      "cell_type": "markdown",
      "metadata": {
        "id": "4_Ie8SJSIIBM"
      },
      "source": [
        "## **2. Feature Computation**"
      ]
    },
    {
      "cell_type": "markdown",
      "metadata": {
        "id": "J1UvD89HJNy1"
      },
      "source": [
        "### 2.1. STFT\n",
        "Computing the *STFT* of an audio signal."
      ]
    },
    {
      "cell_type": "code",
      "metadata": {
        "id": "-rkaiIoKKFuK"
      },
      "source": [
        "import feature_computation"
      ],
      "execution_count": 13,
      "outputs": []
    },
    {
      "cell_type": "markdown",
      "metadata": {
        "id": "Donl5fTRKEth"
      },
      "source": [
        "### 2.2. Data processing"
      ]
    },
    {
      "cell_type": "code",
      "metadata": {
        "id": "8oj04ds1KLhq"
      },
      "source": [
        ""
      ],
      "execution_count": null,
      "outputs": []
    },
    {
      "cell_type": "markdown",
      "metadata": {
        "id": "7mz4oKmQKMmW"
      },
      "source": [
        "## **3. CNN Traning**"
      ]
    },
    {
      "cell_type": "code",
      "metadata": {
        "id": "Vj-Kr68cKV81"
      },
      "source": [
        ""
      ],
      "execution_count": null,
      "outputs": []
    }
  ]
}